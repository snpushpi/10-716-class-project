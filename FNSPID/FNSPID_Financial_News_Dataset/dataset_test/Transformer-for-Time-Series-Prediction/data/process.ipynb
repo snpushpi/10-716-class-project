{
 "cells": [
  {
   "cell_type": "code",
   "execution_count": 3,
   "id": "d1610a69-8b13-46ad-b10f-c804adf79789",
   "metadata": {
    "scrolled": true
   },
   "outputs": [
    {
     "name": "stdout",
     "output_type": "stream",
     "text": [
      "Qualified Files: [('tm.csv', 'TM.csv'), ('COST.csv', 'COST.csv'), ('KO.csv', 'KO.csv'), ('v.csv', 'V.csv'), ('gsk.csv', 'GSK.csv'), ('uso.csv', 'USO.csv'), ('ebay.csv', 'EBAY.csv'), ('aal.csv', 'AAL.csv'), ('biib.csv', 'BIIB.csv'), ('qcom.csv', 'QCOM.csv'), ('TSM.csv', 'TSM.csv'), ('amgn.csv', 'AMGN.csv'), ('bhp.csv', 'BHP.csv'), ('gld.csv', 'GLD.csv'), ('cmg.csv', 'CMG.csv'), ('crm.csv', 'CRM.csv'), ('mrk.csv', 'MRK.csv'), ('cmcsa.csv', 'CMCSA.csv'), ('bidu.csv', 'BIDU.csv'), ('nke.csv', 'NKE.csv'), ('xlf.csv', 'XLF.csv'), ('orcl.csv', 'ORCL.csv'), ('cop.csv', 'COP.csv'), ('BRK-B.csv', 'BRK-B.csv'), ('gild.csv', 'GILD.csv'), ('pep.csv', 'PEP.csv')]\n",
      "Copied tm.csv to /home/spushpit/FNSPID/data_authors/TM.csv\n",
      "Copied COST.csv to /home/spushpit/FNSPID/data_authors/COST.csv\n",
      "Copied KO.csv to /home/spushpit/FNSPID/data_authors/KO.csv\n",
      "Copied v.csv to /home/spushpit/FNSPID/data_authors/V.csv\n",
      "Copied gsk.csv to /home/spushpit/FNSPID/data_authors/GSK.csv\n",
      "Copied uso.csv to /home/spushpit/FNSPID/data_authors/USO.csv\n",
      "Copied ebay.csv to /home/spushpit/FNSPID/data_authors/EBAY.csv\n",
      "Copied aal.csv to /home/spushpit/FNSPID/data_authors/AAL.csv\n",
      "Copied biib.csv to /home/spushpit/FNSPID/data_authors/BIIB.csv\n",
      "Copied qcom.csv to /home/spushpit/FNSPID/data_authors/QCOM.csv\n",
      "Copied TSM.csv to /home/spushpit/FNSPID/data_authors/TSM.csv\n",
      "Copied amgn.csv to /home/spushpit/FNSPID/data_authors/AMGN.csv\n",
      "Copied bhp.csv to /home/spushpit/FNSPID/data_authors/BHP.csv\n",
      "Copied gld.csv to /home/spushpit/FNSPID/data_authors/GLD.csv\n",
      "Copied cmg.csv to /home/spushpit/FNSPID/data_authors/CMG.csv\n",
      "Copied crm.csv to /home/spushpit/FNSPID/data_authors/CRM.csv\n",
      "Copied mrk.csv to /home/spushpit/FNSPID/data_authors/MRK.csv\n",
      "Copied cmcsa.csv to /home/spushpit/FNSPID/data_authors/CMCSA.csv\n",
      "Copied bidu.csv to /home/spushpit/FNSPID/data_authors/BIDU.csv\n",
      "Copied nke.csv to /home/spushpit/FNSPID/data_authors/NKE.csv\n",
      "Copied xlf.csv to /home/spushpit/FNSPID/data_authors/XLF.csv\n",
      "Copied orcl.csv to /home/spushpit/FNSPID/data_authors/ORCL.csv\n",
      "Copied cop.csv to /home/spushpit/FNSPID/data_authors/COP.csv\n",
      "Copied BRK-B.csv to /home/spushpit/FNSPID/data_authors/BRK-B.csv\n",
      "Copied gild.csv to /home/spushpit/FNSPID/data_authors/GILD.csv\n",
      "Copied pep.csv to /home/spushpit/FNSPID/data_authors/PEP.csv\n"
     ]
    }
   ],
   "source": [
    "import os\n",
    "import csv\n",
    "import shutil\n",
    "\n",
    "source_folder = \"/home/spushpit/FNSPID/FNSPID_Financial_News_Dataset/dataset_test/Transformer-for-Time-Series-Prediction/data\"\n",
    "destination_folder = \"/home/spushpit/FNSPID/data_authors\"# Change this to your folder path\n",
    "min_data_rows = 3200\n",
    "qualified_files = []\n",
    "\n",
    "min_data_rows = 3200\n",
    "\n",
    "# List to store tuples of (original_filename, new_filename)\n",
    "qualified_files = []\n",
    "\n",
    "# Iterate over files in the source folder\n",
    "for filename in os.listdir(source_folder):\n",
    "    if filename.endswith('.csv'):\n",
    "        file_path = os.path.join(source_folder, filename)\n",
    "        try:\n",
    "            with open(file_path, 'r', encoding='utf-8') as f:\n",
    "                reader = csv.reader(f)\n",
    "                # Count all rows and subtract one for the header\n",
    "                row_count = sum(1 for _ in reader) - 1\n",
    "        except UnicodeDecodeError:\n",
    "            with open(file_path, 'r', encoding='ISO-8859-1') as f:\n",
    "                reader = csv.reader(f)\n",
    "                row_count = sum(1 for _ in reader) - 1\n",
    "\n",
    "        if row_count >= min_data_rows:\n",
    "            # Capitalize the base name and make extension lowercase\n",
    "            base_name, ext = os.path.splitext(filename)\n",
    "            new_filename = base_name.upper() + ext.lower()\n",
    "            qualified_files.append((filename, new_filename))\n",
    "\n",
    "print(\"Qualified Files:\", qualified_files)\n",
    "\n",
    "# Create the destination folder if it doesn't exist\n",
    "if not os.path.exists(destination_folder):\n",
    "    os.makedirs(destination_folder)\n",
    "\n",
    "# Copy each qualified file to the destination folder with the new filename\n",
    "for original_filename, new_filename in qualified_files:\n",
    "    src_path = os.path.join(source_folder, original_filename)\n",
    "    dest_path = os.path.join(destination_folder, new_filename)\n",
    "    shutil.copy(src_path, dest_path)\n",
    "    print(f\"Copied {original_filename} to {dest_path}\")\n"
   ]
  },
  {
   "cell_type": "code",
   "execution_count": 4,
   "id": "7d07c660-885b-4230-8c69-45d858bdd713",
   "metadata": {},
   "outputs": [
    {
     "data": {
      "text/plain": [
       "26"
      ]
     },
     "execution_count": 4,
     "metadata": {},
     "output_type": "execute_result"
    }
   ],
   "source": [
    "len(qualified_files)"
   ]
  },
  {
   "cell_type": "code",
   "execution_count": 13,
   "id": "ad4767b7-9479-4cb6-969a-edcf85d06f59",
   "metadata": {},
   "outputs": [
    {
     "name": "stdout",
     "output_type": "stream",
     "text": [
      "26\n",
      "25\n",
      "25\n",
      "Found files: ['GSK.csv', 'BIIB.csv', 'QCOM.csv', 'AMGN.csv', 'USO.csv', 'TM.csv', 'KO.csv', 'COST.csv', 'AAL.csv', 'BHP.csv', 'EBAY.csv', 'CMG.csv', 'ORCL.csv', 'CMCSA.csv', 'GLD.csv', 'MRK.csv', 'TSM.csv', 'GILD.csv', 'CRM.csv', 'V.csv', 'NKE.csv', 'XLF.csv', 'PEP.csv', 'COP.csv', 'BIDU.csv']\n",
      "Found files: ['GSK.csv', 'USO.csv', 'BIDU.csv', 'TM.csv', 'CMCSA.csv', 'ORCL.csv', 'AAL.csv', 'KO.csv', 'GILD.csv', 'V.csv', 'BHP.csv', 'COST.csv', 'CMG.csv', 'GLD.csv', 'CRM.csv', 'TSM.csv', 'MRK.csv', 'EBAY.csv', 'XLF.csv', 'NKE.csv', 'QCOM.csv', 'BIIB.csv', 'AMGN.csv', 'COP.csv', 'PEP.csv']\n"
     ]
    }
   ],
   "source": [
    "target_folder1 = \"/home/spushpit/FNSPID/news_data_raw_all\"\n",
    "target_folder2 = \"/home/spushpit/FNSPID/stock_data_raw_all\"\n",
    "found_files1 = []\n",
    "found_files2 = []\n",
    "\n",
    "# Iterate over files in the target folder\n",
    "for filename in os.listdir(target_folder1):\n",
    "    # Process only CSV files\n",
    "    if filename.endswith('.csv'):\n",
    "        base_name, ext = os.path.splitext(filename)\n",
    "        # Standardize the file name: uppercase the base name and ensure extension is '.csv'\n",
    "        standardized_name = base_name.upper() + ext.lower()\n",
    "        if standardized_name in qualified_files:\n",
    "            found_files1.append(standardized_name)\n",
    "\n",
    "for filename in os.listdir(target_folder2):\n",
    "    # Process only CSV files\n",
    "    if filename.endswith('.csv'):\n",
    "        base_name, ext = os.path.splitext(filename)\n",
    "        # Standardize the file name: uppercase the base name and ensure extension is '.csv'\n",
    "        standardized_name = base_name.upper() + ext.lower()\n",
    "        if standardized_name in qualified_files:\n",
    "            found_files2.append(standardized_name)\n",
    "print(len(qualified_files))\n",
    "print(len(found_files1))\n",
    "print(len(found_files2))\n",
    "print(\"Found files:\", found_files1)\n",
    "print(\"Found files:\", found_files2)"
   ]
  },
  {
   "cell_type": "code",
   "execution_count": 16,
   "id": "5d6d666b-6b8b-4dfe-bd0b-efe22dc22be4",
   "metadata": {},
   "outputs": [
    {
     "name": "stdout",
     "output_type": "stream",
     "text": [
      "Copied GSK.csv to destination.\n",
      "Copied BIIB.csv to destination.\n",
      "Copied QCOM.csv to destination.\n",
      "Copied AMGN.csv to destination.\n",
      "Copied USO.csv to destination.\n",
      "Copied TM.csv to destination.\n",
      "Copied KO.csv to destination.\n",
      "Copied COST.csv to destination.\n",
      "Copied AAL.csv to destination.\n",
      "Copied BHP.csv to destination.\n",
      "Copied EBAY.csv to destination.\n",
      "Copied CMG.csv to destination.\n",
      "Copied ORCL.csv to destination.\n",
      "Copied CMCSA.csv to destination.\n",
      "Copied GLD.csv to destination.\n",
      "Copied MRK.csv to destination.\n",
      "Copied TSM.csv to destination.\n",
      "Copied GILD.csv to destination.\n",
      "Copied CRM.csv to destination.\n",
      "Copied V.csv to destination.\n",
      "Copied NKE.csv to destination.\n",
      "Copied XLF.csv to destination.\n",
      "Copied PEP.csv to destination.\n",
      "Copied COP.csv to destination.\n",
      "Copied BIDU.csv to destination.\n"
     ]
    }
   ],
   "source": [
    "import os\n",
    "import shutil\n",
    "\n",
    "\n",
    "# Path to the source folder where these files are located.\n",
    "source_folder1 = \"/home/spushpit/FNSPID/stock_price_data_raw_all\"\n",
    "\n",
    "# Path to the destination folder where you want to copy the files.\n",
    "destination_folder = \"/home/spushpit/FNSPID/stock_price_data_raw\"\n",
    "\n",
    "# Create the destination folder if it doesn't exist.\n",
    "os.makedirs(destination_folder, exist_ok=True)\n",
    "\n",
    "for filename in found_files1:\n",
    "    source_file = os.path.join(source_folder1, filename)\n",
    "    destination_file = os.path.join(destination_folder, filename)\n",
    "    if os.path.exists(source_file):\n",
    "        shutil.copy(source_file, destination_file)\n",
    "        print(f\"Copied {filename} to destination.\")\n",
    "    else:\n",
    "        print(f\"{filename} not found in source folder.\")\n"
   ]
  },
  {
   "cell_type": "code",
   "execution_count": null,
   "id": "095c1124-c4a1-4814-8ea7-df2f5afb3114",
   "metadata": {},
   "outputs": [],
   "source": []
  }
 ],
 "metadata": {
  "kernelspec": {
   "display_name": "Python 3 (ipykernel)",
   "language": "python",
   "name": "python3"
  },
  "language_info": {
   "codemirror_mode": {
    "name": "ipython",
    "version": 3
   },
   "file_extension": ".py",
   "mimetype": "text/x-python",
   "name": "python",
   "nbconvert_exporter": "python",
   "pygments_lexer": "ipython3",
   "version": "3.8.19"
  }
 },
 "nbformat": 4,
 "nbformat_minor": 5
}
